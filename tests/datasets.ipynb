{
 "cells": [
  {
   "cell_type": "code",
   "execution_count": 35,
   "metadata": {},
   "outputs": [
    {
     "name": "stdout",
     "output_type": "stream",
     "text": [
      "The autoreload extension is already loaded. To reload it, use:\n",
      "  %reload_ext autoreload\n"
     ]
    }
   ],
   "source": [
    "import sys\n",
    "sys.path.append('/home/xp/stereo_toolbox/')\n",
    "\n",
    "import numpy as np\n",
    "import torch\n",
    "import torch.nn as nn\n",
    "from torch.utils.data import DataLoader\n",
    "import torch.nn.functional as F\n",
    "import torch.optim as optim\n",
    "from tqdm import tqdm\n",
    "torch.backends.cudnn.benchmark = True\n",
    "import matplotlib.pyplot as plt\n",
    "\n",
    "# auto reload modules\n",
    "%load_ext autoreload\n",
    "%autoreload 2\n",
    "\n",
    "from datasets import *\n",
    "from visualization import *"
   ]
  },
  {
   "cell_type": "code",
   "execution_count": 55,
   "metadata": {},
   "outputs": [],
   "source": [
    "def show_figures(left, right, colored_disp, noc_mask, raw_left, raw_right):\n",
    "    left, right = left.squeeze().cpu().numpy(), right.squeeze().cpu().numpy()\n",
    "    noc_mask = noc_mask.squeeze().cpu().numpy()\n",
    "    raw_left, raw_right = raw_left.squeeze().cpu().numpy(), raw_right.squeeze().cpu().numpy()\n",
    "\n",
    "    left = (left - left.min()) / (left.max() - left.min())\n",
    "    right = (right - right.min()) / (right.max() - right.min())\n",
    "\n",
    "    plt.figure(figsize=(24, 8))\n",
    "    plt.subplot(2, 3, 1)\n",
    "    plt.title('Left Image')\n",
    "    plt.imshow(left.transpose(1, 2, 0))\n",
    "    plt.axis('off')\n",
    "\n",
    "    plt.subplot(2, 3, 2)\n",
    "    plt.title('Right Image')\n",
    "    plt.imshow(right.transpose(1, 2, 0))\n",
    "    plt.axis('off')\n",
    "\n",
    "    plt.subplot(2, 3, 3)\n",
    "    plt.title('Colored Disparity')\n",
    "    plt.imshow(colored_disp)\n",
    "    plt.axis('off')\n",
    "\n",
    "    plt.subplot(2, 3, 4)\n",
    "    plt.title('Raw Left Image')\n",
    "    plt.imshow(raw_left.transpose(1, 2, 0))\n",
    "    plt.axis('off')\n",
    "\n",
    "    plt.subplot(2, 3, 5)\n",
    "    plt.title('Raw Right Image')\n",
    "    plt.imshow(raw_right.transpose(1, 2, 0))\n",
    "    plt.axis('off')\n",
    "\n",
    "    plt.subplot(2, 3, 6)\n",
    "    plt.title('NOC Mask')\n",
    "    plt.imshow((noc_mask * 255.0).astype(np.uint8), vmin=0, vmax=255, cmap='gray')\n",
    "    plt.axis('off')\n",
    "\n",
    "    plt.show()\n"
   ]
  },
  {
   "cell_type": "code",
   "execution_count": null,
   "metadata": {},
   "outputs": [],
   "source": [
    "## SceneFlow\n",
    "\n",
    "splits = ['train_cleanpass', 'train_finalpass', 'test_cleanpass', 'test_finalpass']\n",
    "\n",
    "for split in splits:\n",
    "    for training in [True, False]:\n",
    "        dataset = SceneFlow_Dataset(split=split, training=training, raw_data=True)\n",
    "        dataloader = DataLoader(dataset, batch_size=3, shuffle=False, num_workers=4)\n",
    "        \n",
    "\n",
    "        for i, (left, right, disp, noc_mask, raw_left, raw_right) in enumerate(dataloader):\n",
    "            print('split: ', split, ' training: ', training, ' samples: ', dataset.__len__(), ' left shape: ', left.shape)\n",
    "\n",
    "            colored_disp = colored_disparity_map_Spectral_r(disp[0])\n",
    "            colored_disp = cv2.cvtColor(colored_disp, cv2.COLOR_BGR2RGB)\n",
    "\n",
    "            show_figures(left[0], right[0], colored_disp, noc_mask[0], raw_left[0], raw_right[0])\n",
    "            \n",
    "            break"
   ]
  },
  {
   "cell_type": "code",
   "execution_count": null,
   "metadata": {},
   "outputs": [],
   "source": []
  }
 ],
 "metadata": {
  "kernelspec": {
   "display_name": "base",
   "language": "python",
   "name": "python3"
  },
  "language_info": {
   "codemirror_mode": {
    "name": "ipython",
    "version": 3
   },
   "file_extension": ".py",
   "mimetype": "text/x-python",
   "name": "python",
   "nbconvert_exporter": "python",
   "pygments_lexer": "ipython3",
   "version": "3.10.14"
  }
 },
 "nbformat": 4,
 "nbformat_minor": 2
}
