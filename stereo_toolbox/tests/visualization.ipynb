{
 "cells": [
  {
   "cell_type": "code",
   "execution_count": null,
   "metadata": {},
   "outputs": [],
   "source": [
    "import sys\n",
    "sys.path.insert(0, '/home/xp/stereo_toolbox/')\n",
    "\n",
    "import numpy as np\n",
    "import torch\n",
    "import torch.nn as nn\n",
    "from torch.utils.data import DataLoader\n",
    "import torch.nn.functional as F\n",
    "import torch.optim as optim\n",
    "from tqdm import tqdm\n",
    "torch.backends.cudnn.benchmark = True\n",
    "import matplotlib.pyplot as plt\n",
    "import argparse\n",
    "import cv2\n",
    "\n",
    "# auto reload modules\n",
    "%load_ext autoreload\n",
    "%autoreload 2\n",
    "\n",
    "from stereo_toolbox.datasets import *\n",
    "from stereo_toolbox.models import *\n",
    "from stereo_toolbox.visualization import *"
   ]
  },
  {
   "cell_type": "code",
   "execution_count": null,
   "metadata": {},
   "outputs": [],
   "source": [
    "def show_left_gt_pred_error(left, gt, pred):\n",
    "    left = left.cpu().numpy()\n",
    "    gt = gt.cpu().numpy()\n",
    "    pred = pred.cpu().numpy()\n",
    "\n",
    "    colored_gt = colored_disparity_map_KITTI(gt)\n",
    "    colored_gt = cv2.cvtColor(colored_gt, cv2.COLOR_BGR2RGB)\n",
    "\n",
    "    colored_pred = colored_disparity_map_KITTI(pred, maxval=gt.max())\n",
    "    colored_pred = cv2.cvtColor(colored_pred, cv2.COLOR_BGR2RGB)\n",
    "\n",
    "    colored_error = colored_error_map_KITTI(pred, gt)\n",
    "    colored_error = cv2.cvtColor(colored_error, cv2.COLOR_BGR2RGB)\n",
    "\n",
    "    plt.figure(figsize=(24, 12))\n",
    "    plt.subplot(1, 4, 1)\n",
    "    plt.title('Left Image')\n",
    "    plt.imshow(left.transpose(1, 2, 0))\n",
    "    plt.axis('off')\n",
    "\n",
    "    plt.subplot(1, 4, 2)\n",
    "    plt.title('Ground Truth')\n",
    "    plt.imshow(colored_gt)\n",
    "    plt.axis('off')\n",
    "\n",
    "    plt.subplot(1, 4, 3)\n",
    "    plt.title('Predicted')\n",
    "    plt.imshow(colored_pred)\n",
    "    plt.axis('off')\n",
    "\n",
    "    plt.subplot(1, 4, 4)\n",
    "    plt.title('Error')\n",
    "    plt.imshow(colored_error)\n",
    "    plt.axis('off')\n",
    "\n",
    "    plt.show()"
   ]
  },
  {
   "cell_type": "code",
   "execution_count": null,
   "metadata": {},
   "outputs": [],
   "source": [
    "## colored error map from KITTI\n",
    "model = load_checkpoint_flexible(IGEVStereo(),\n",
    "                                 '/home/xp/stereo_toolbox/stereo_toolbox/models/IGEVStereo/sceneflow.pth',\n",
    "                                 )\n",
    "\n",
    "model = model.cuda().eval()\n",
    "\n",
    "dataset = KITTI2015_Dataset(split='train_all', training=False)\n",
    "dataloader = DataLoader(dataset, batch_size=1, shuffle=False)\n",
    "\n",
    "for idx, data in enumerate(dataloader):\n",
    "    left = data['left'].cuda()\n",
    "    right = data['right'].cuda()\n",
    "    gt = data['gt_disp'].cuda()\n",
    "    raw_left = data['raw_left'].cuda()\n",
    "\n",
    "    with torch.no_grad():\n",
    "        pred = model(left, right)\n",
    "\n",
    "    show_left_gt_pred_error(raw_left.squeeze(), gt.squeeze(), pred.squeeze())\n",
    "\n",
    "    if idx > 4:\n",
    "        break"
   ]
  },
  {
   "cell_type": "code",
   "execution_count": null,
   "metadata": {},
   "outputs": [],
   "source": []
  }
 ],
 "metadata": {
  "kernelspec": {
   "display_name": "base",
   "language": "python",
   "name": "python3"
  },
  "language_info": {
   "codemirror_mode": {
    "name": "ipython",
    "version": 3
   },
   "file_extension": ".py",
   "mimetype": "text/x-python",
   "name": "python",
   "nbconvert_exporter": "python",
   "pygments_lexer": "ipython3",
   "version": "3.10.14"
  }
 },
 "nbformat": 4,
 "nbformat_minor": 2
}
