{
 "cells": [
  {
   "cell_type": "code",
   "execution_count": null,
   "metadata": {},
   "outputs": [],
   "source": [
    "import sys\n",
    "sys.path.insert(0, '/home/xp/stereo_toolbox/')\n",
    "\n",
    "import numpy as np\n",
    "import torch\n",
    "import torch.nn as nn\n",
    "from torch.utils.data import DataLoader\n",
    "import torch.nn.functional as F\n",
    "import torch.optim as optim\n",
    "from tqdm import tqdm\n",
    "torch.backends.cudnn.benchmark = True\n",
    "import matplotlib.pyplot as plt\n",
    "\n",
    "# auto reload modules\n",
    "%load_ext autoreload\n",
    "%autoreload 2\n",
    "\n",
    "from stereo_toolbox.datasets import *\n",
    "from stereo_toolbox.models import *\n",
    "from stereo_toolbox.evaluation import *"
   ]
  },
  {
   "cell_type": "code",
   "execution_count": null,
   "metadata": {},
   "outputs": [],
   "source": [
    "## PSMNet\n",
    "model = load_checkpoint_flexible(PSMNet(),\n",
    "                                 '/home/xp/stereo_toolbox/stereo_toolbox/models/PSMNet/pretrained_sceneflow_new.tar',\n",
    "                                 'state_dict')\n",
    "\n",
    "\"\"\"\n",
    "EPE: 1.1572px, 1px: 11.2908%, 2px: 6.4028%, 3px: 4.7803%\n",
    "\"\"\"\n",
    "sf_res = sceneflow_test(model, device='cuda:0')\n",
    "\n",
    "\"\"\"\n",
    "KITTI2015_Dataset EPE: 4.0584%, OCC: 47.6432%, NOC: 28.1250%, ALL: 28.4160%.\n",
    "KITTI2012_Dataset EPE: 3.8022%, OCC: 63.1951%, NOC: 26.5022%, ALL: 27.3239%.\n",
    "MiddleburyEval3_Dataset EPE: 9.8662%, OCC: 62.2950%, NOC: 30.1842%, ALL: 34.5084%.\n",
    "ETH3D_Dataset EPE: 2.3997%, OCC: 28.5613%, NOC: 14.7393%, ALL: 15.3888%.\n",
    "\"\"\"\n",
    "gen_res = generalization_eval(model, device='cuda:0')"
   ]
  },
  {
   "cell_type": "code",
   "execution_count": null,
   "metadata": {},
   "outputs": [],
   "source": [
    "## GwcNet_GC\n",
    "model = load_checkpoint_flexible(GwcNet_GC(),\n",
    "                                 '/home/xp/stereo_toolbox/stereo_toolbox/models/GwcNet/sceneflow/gwcnet-gc/checkpoint_000015.ckpt',\n",
    "                                 'model')\n",
    "\n",
    "\"\"\"\n",
    "EPE: 0.9514px, 1px: 8.1138%, 2px: 4.6241%, 3px: 3.4730%\"\n",
    "\"\"\"\n",
    "sf_res = sceneflow_test(model, device='cuda:0')\n",
    "\n",
    "\"\"\"\n",
    "KITTI2015_Dataset EPE: 2.3801px, OCC: 29.0696%, NOC: 12.1746%, ALL: 12.5331%.\n",
    "KITTI2012_Dataset EPE: 1.7062px, OCC: 45.6458%, NOC: 11.9081%, ALL: 12.6712%.\n",
    "MiddleburyEval3_Dataset EPE: 6.0044px, OCC: 47.1304%, NOC: 20.4144%, ALL: 24.1094%.\n",
    "ETH3D_Dataset EPE: 1.9213px, OCC: 21.3749%, NOC: 10.4911%, ALL: 11.0878%.\n",
    "\"\"\"\n",
    "gen_res = generalization_eval(model, device='cuda:0')"
   ]
  },
  {
   "cell_type": "code",
   "execution_count": null,
   "metadata": {},
   "outputs": [],
   "source": [
    "## CFNet\n",
    "model = load_checkpoint_flexible(CFNet(),\n",
    "                                 '/home/xp/stereo_toolbox/stereo_toolbox/models/CFNet/sceneflow_pretraining.ckpt',\n",
    "                                 'model')\n",
    "\"\"\"\n",
    "EPE: 1.2879px, 1px: 10.7195%, 2px: 7.3116%, 3px: 5.9251%\n",
    "\"\"\"\n",
    "sf_res = sceneflow_test(model, device='cuda:0')\n",
    "\n",
    "\"\"\"\n",
    "KITTI2015_Dataset EPE: 1.9798px, OCC: 16.4189%, NOC: 5.8712%, ALL: 6.0967%.\n",
    "KITTI2012_Dataset EPE: 1.0334px, OCC: 30.2510%, NOC: 4.5758%, ALL: 5.1527%.\n",
    "MiddleburyEval3_Dataset EPE: 5.7162px, OCC: 44.5492%, NOC: 16.3307%, ALL: 20.2219%.\n",
    "ETH3D_Dataset EPE: 0.5862px, OCC: 11.8926%, NOC: 5.5666%, ALL: 5.8700%.\n",
    "\"\"\"\n",
    "gen_res = generalization_eval(model, device='cuda:0')"
   ]
  },
  {
   "cell_type": "code",
   "execution_count": null,
   "metadata": {},
   "outputs": [],
   "source": [
    "## PCWNet_GC\n",
    "model = load_checkpoint_flexible(PCWNet_GC(),\n",
    "                                 '/home/xp/stereo_toolbox/stereo_toolbox/models/PCWNet/PCWNet_sceneflow_pretrain.ckpt',\n",
    "                                 'model')\n",
    "\n",
    "\"\"\"\n",
    "EPE: 1.0391px, 1px: 8.1380%, 2px: 4.6462%, 3px: 3.5443%\n",
    "\"\"\"\n",
    "sf_res = sceneflow_test(model, device='cuda:0')\n",
    "\n",
    "\"\"\"\n",
    "KITTI2015_Dataset EPE: 1.7777px, OCC: 14.9532%, NOC: 5.5273%, ALL: 5.7416%.\n",
    "KITTI2012_Dataset EPE: 0.9589px, OCC: 30.2184%, NOC: 4.0734%, ALL: 4.6669%.\n",
    "MiddleburyEval3_Dataset EPE: 3.1463px, OCC: 37.9880%, NOC: 12.1703%, ALL: 15.8633%.\n",
    "ETH3D_Dataset EPE: 0.5284px, OCC: 11.6673%, NOC: 5.2792%, ALL: 5.5360%.\n",
    "\"\"\"\n",
    "gen_res = generalization_eval(model, device='cuda:0')"
   ]
  },
  {
   "cell_type": "code",
   "execution_count": null,
   "metadata": {},
   "outputs": [],
   "source": [
    "## RaftStereo\n",
    "model = load_checkpoint_flexible(RAFTStereo(),\n",
    "                                 '/home/xp/stereo_toolbox/stereo_toolbox/models/RAFTStereo/raftstereo-sceneflow.pth',\n",
    "                                 )\n",
    "\n",
    "sf_res = sceneflow_test(model, device='cuda:0')\n",
    "gen_res = generalization_eval(model, device='cuda:0')"
   ]
  },
  {
   "cell_type": "code",
   "execution_count": null,
   "metadata": {},
   "outputs": [],
   "source": [
    "## IGEVStereo\n",
    "model = load_checkpoint_flexible(IGEVStereo(imagenet_norm=False),\n",
    "                                 '/home/xp/stereo_toolbox/stereo_toolbox/models/IGEVStereo/sceneflow.pth',\n",
    "                                 )\n",
    "\n",
    "\"\"\"\n",
    "EPE: 0.6790px, 1px: 5.7491%, 2px: 3.7320%, 3px: 2.9069%\n",
    "\"\"\"\n",
    "sf_res = sceneflow_test(model, device='cuda:0')\n",
    "\n",
    "\"\"\"\n",
    "KITTI2015_Dataset EPE: 1.1868px, OCC: 14.2606%, NOC: 5.5951%, ALL: 5.7924%.\n",
    "KITTI2012_Dataset EPE: 1.0131px, OCC: 33.6624%, NOC: 4.9248%, ALL: 5.5936%.\n",
    "MiddleburyEval3_Dataset EPE: 1.5491px, OCC: 24.2787%, NOC: 7.2518%, ALL: 9.9079%.\n",
    "ETH3D_Dataset EPE: 0.7400px, OCC: 9.7601%, NOC: 4.0635%, ALL: 4.3856%.\n",
    "\"\"\"\n",
    "gen_res = generalization_eval(model, device='cuda:0')"
   ]
  },
  {
   "cell_type": "code",
   "execution_count": null,
   "metadata": {},
   "outputs": [],
   "source": []
  }
 ],
 "metadata": {
  "kernelspec": {
   "display_name": "base",
   "language": "python",
   "name": "python3"
  },
  "language_info": {
   "codemirror_mode": {
    "name": "ipython",
    "version": 3
   },
   "file_extension": ".py",
   "mimetype": "text/x-python",
   "name": "python",
   "nbconvert_exporter": "python",
   "pygments_lexer": "ipython3",
   "version": "3.10.14"
  }
 },
 "nbformat": 4,
 "nbformat_minor": 2
}
