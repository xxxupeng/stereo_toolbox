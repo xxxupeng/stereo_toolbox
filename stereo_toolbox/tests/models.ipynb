{
 "cells": [
  {
   "cell_type": "code",
   "execution_count": null,
   "metadata": {},
   "outputs": [],
   "source": [
    "import sys\n",
    "sys.path.insert(0, '/home/xp/stereo_toolbox/')\n",
    "\n",
    "import numpy as np\n",
    "import torch\n",
    "import torch.nn as nn\n",
    "from torch.utils.data import DataLoader\n",
    "import torch.nn.functional as F\n",
    "import torch.optim as optim\n",
    "from tqdm import tqdm\n",
    "torch.backends.cudnn.benchmark = True\n",
    "import matplotlib.pyplot as plt\n",
    "\n",
    "# auto reload modules\n",
    "%load_ext autoreload\n",
    "%autoreload 2\n",
    "\n",
    "from stereo_toolbox.datasets import *\n",
    "from stereo_toolbox.models import *\n",
    "from stereo_toolbox.evaluation import *"
   ]
  },
  {
   "cell_type": "code",
   "execution_count": null,
   "metadata": {},
   "outputs": [],
   "source": [
    "## PSMNet\n",
    "model = load_checkpoint_flexible(PSMNet(),\n",
    "                                 '/home/xp/stereo_toolbox/stereo_toolbox/models/PSMNet/pretrained_sceneflow_new.tar',\n",
    "                                 'state_dict')\n",
    "\n",
    "\"\"\"\n",
    "EPE: 1.1572px, 1px: 11.2908%, 2px: 6.4028%, 3px: 4.7803%\n",
    "\"\"\"\n",
    "sf_res = sceneflow_test(model, device='cuda:0')\n",
    "\n",
    "\"\"\"\n",
    "KITTI2015_Dataset EPE: 4.0584%, OCC: 47.6432%, NOC: 28.1250%, ALL: 28.4160%.\n",
    "KITTI2012_Dataset EPE: 3.8022%, OCC: 63.1951%, NOC: 26.5022%, ALL: 27.3239%.\n",
    "MiddleburyEval3_Dataset EPE: 9.8662%, OCC: 62.2950%, NOC: 30.1842%, ALL: 34.5084%.\n",
    "ETH3D_Dataset EPE: 2.3997%, OCC: 28.5613%, NOC: 14.7393%, ALL: 15.3888%.\n",
    "\"\"\"\n",
    "gen_res = generalization_eval(model, device='cuda:0')"
   ]
  },
  {
   "cell_type": "code",
   "execution_count": null,
   "metadata": {},
   "outputs": [],
   "source": [
    "## GwcNet_GC\n",
    "model = load_checkpoint_flexible(GwcNet_GC(),\n",
    "                                 '/home/xp/stereo_toolbox/stereo_toolbox/models/GwcNet/sceneflow/gwcnet-gc/checkpoint_000015.ckpt',\n",
    "                                 'model')\n",
    "\n",
    "\"\"\"\n",
    "EPE: 0.9514px, 1px: 8.1138%, 2px: 4.6241%, 3px: 3.4730%\"\n",
    "\"\"\"\n",
    "sf_res = sceneflow_test(model, device='cuda:0')\n",
    "\n",
    "\"\"\"\n",
    "KITTI2015_Dataset EPE: 2.3801px, OCC: 29.0696%, NOC: 12.1746%, ALL: 12.5331%.\n",
    "KITTI2012_Dataset EPE: 1.7062px, OCC: 45.6458%, NOC: 11.9081%, ALL: 12.6712%.\n",
    "MiddleburyEval3_Dataset EPE: 6.0044px, OCC: 47.1304%, NOC: 20.4144%, ALL: 24.1094%.\n",
    "ETH3D_Dataset EPE: 1.9213px, OCC: 21.3749%, NOC: 10.4911%, ALL: 11.0878%.\n",
    "\"\"\"\n",
    "gen_res = generalization_eval(model, device='cuda:0')"
   ]
  },
  {
   "cell_type": "code",
   "execution_count": null,
   "metadata": {},
   "outputs": [],
   "source": []
  },
  {
   "cell_type": "code",
   "execution_count": null,
   "metadata": {},
   "outputs": [],
   "source": []
  }
 ],
 "metadata": {
  "kernelspec": {
   "display_name": "base",
   "language": "python",
   "name": "python3"
  },
  "language_info": {
   "codemirror_mode": {
    "name": "ipython",
    "version": 3
   },
   "file_extension": ".py",
   "mimetype": "text/x-python",
   "name": "python",
   "nbconvert_exporter": "python",
   "pygments_lexer": "ipython3",
   "version": "3.10.14"
  }
 },
 "nbformat": 4,
 "nbformat_minor": 2
}
